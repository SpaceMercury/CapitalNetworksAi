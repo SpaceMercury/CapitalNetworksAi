{
 "cells": [
  {
   "cell_type": "markdown",
   "metadata": {},
   "source": [
    "Download Joseph data from XL(/Users/amitlevi/Desktop/DeepCheck/Ex2 Convolution, Filtering, Gradients - answers/Dataset_sq_JOSEPH.xlsx) file to json file\n",
    "\n",
    "* Download Joseph transactions from XL file \n",
    "* Convert each transaction to a vector\n",
    "* Save all transactions in list\n",
    "\n",
    "\n"
   ]
  },
  {
   "cell_type": "code",
   "execution_count": 52,
   "metadata": {},
   "outputs": [
    {
     "ename": "FileNotFoundError",
     "evalue": "[Errno 2] No such file or directory: '/Users/amitlevi/Desktop/DeepCheck/Ex2 Convolution, Filtering, Gradients - answers/Dataset_sq_JOSEPH.xlsx'",
     "output_type": "error",
     "traceback": [
      "\u001b[0;31m---------------------------------------------------------------------------\u001b[0m",
      "\u001b[0;31mFileNotFoundError\u001b[0m                         Traceback (most recent call last)",
      "\u001b[1;32m/Users/amitlevi/Desktop/DeepCheck/Ex2 Convolution, Filtering, Gradients - answers/LauzHack/Swissquate.ipynb Cell 2\u001b[0m line \u001b[0;36m2\n\u001b[1;32m     <a href='vscode-notebook-cell:/Users/amitlevi/Desktop/DeepCheck/Ex2%20Convolution%2C%20Filtering%2C%20Gradients%20-%20answers/LauzHack/Swissquate.ipynb#X10sZmlsZQ%3D%3D?line=16'>17</a>\u001b[0m \u001b[39mfrom\u001b[39;00m \u001b[39mmpl_toolkits\u001b[39;00m\u001b[39m.\u001b[39;00m\u001b[39mmplot3d\u001b[39;00m \u001b[39mimport\u001b[39;00m Axes3D  \u001b[39m# Import the 3D plotting toolkit\u001b[39;00m\n\u001b[1;32m     <a href='vscode-notebook-cell:/Users/amitlevi/Desktop/DeepCheck/Ex2%20Convolution%2C%20Filtering%2C%20Gradients%20-%20answers/LauzHack/Swissquate.ipynb#X10sZmlsZQ%3D%3D?line=18'>19</a>\u001b[0m \u001b[39m# Read the data from the excel file\u001b[39;00m\n\u001b[0;32m---> <a href='vscode-notebook-cell:/Users/amitlevi/Desktop/DeepCheck/Ex2%20Convolution%2C%20Filtering%2C%20Gradients%20-%20answers/LauzHack/Swissquate.ipynb#X10sZmlsZQ%3D%3D?line=19'>20</a>\u001b[0m df \u001b[39m=\u001b[39m pd\u001b[39m.\u001b[39;49mread_excel(\u001b[39m'\u001b[39;49m\u001b[39m/Users/amitlevi/Desktop/DeepCheck/Ex2 Convolution, Filtering, Gradients - answers/Dataset_sq_JOSEPH.xlsx\u001b[39;49m\u001b[39m'\u001b[39;49m)\n\u001b[1;32m     <a href='vscode-notebook-cell:/Users/amitlevi/Desktop/DeepCheck/Ex2%20Convolution%2C%20Filtering%2C%20Gradients%20-%20answers/LauzHack/Swissquate.ipynb#X10sZmlsZQ%3D%3D?line=20'>21</a>\u001b[0m de_others \u001b[39m=\u001b[39m pd\u001b[39m.\u001b[39mread_excel(\u001b[39m'\u001b[39m\u001b[39m/Users/amitlevi/Desktop/DeepCheck/Ex2 Convolution, Filtering, Gradients - answers/Dataset_sq_DE_Others.xlsx\u001b[39m\u001b[39m'\u001b[39m)\n\u001b[1;32m     <a href='vscode-notebook-cell:/Users/amitlevi/Desktop/DeepCheck/Ex2%20Convolution%2C%20Filtering%2C%20Gradients%20-%20answers/LauzHack/Swissquate.ipynb#X10sZmlsZQ%3D%3D?line=22'>23</a>\u001b[0m \u001b[39m# Create vector for transaction (one line in the data) according to the features in the data\u001b[39;00m\n",
      "File \u001b[0;32m~/opt/miniconda3/envs/Qproject/lib/python3.8/site-packages/pandas/io/excel/_base.py:478\u001b[0m, in \u001b[0;36mread_excel\u001b[0;34m(io, sheet_name, header, names, index_col, usecols, dtype, engine, converters, true_values, false_values, skiprows, nrows, na_values, keep_default_na, na_filter, verbose, parse_dates, date_parser, date_format, thousands, decimal, comment, skipfooter, storage_options, dtype_backend)\u001b[0m\n\u001b[1;32m    476\u001b[0m \u001b[39mif\u001b[39;00m \u001b[39mnot\u001b[39;00m \u001b[39misinstance\u001b[39m(io, ExcelFile):\n\u001b[1;32m    477\u001b[0m     should_close \u001b[39m=\u001b[39m \u001b[39mTrue\u001b[39;00m\n\u001b[0;32m--> 478\u001b[0m     io \u001b[39m=\u001b[39m ExcelFile(io, storage_options\u001b[39m=\u001b[39;49mstorage_options, engine\u001b[39m=\u001b[39;49mengine)\n\u001b[1;32m    479\u001b[0m \u001b[39melif\u001b[39;00m engine \u001b[39mand\u001b[39;00m engine \u001b[39m!=\u001b[39m io\u001b[39m.\u001b[39mengine:\n\u001b[1;32m    480\u001b[0m     \u001b[39mraise\u001b[39;00m \u001b[39mValueError\u001b[39;00m(\n\u001b[1;32m    481\u001b[0m         \u001b[39m\"\u001b[39m\u001b[39mEngine should not be specified when passing \u001b[39m\u001b[39m\"\u001b[39m\n\u001b[1;32m    482\u001b[0m         \u001b[39m\"\u001b[39m\u001b[39man ExcelFile - ExcelFile already has the engine set\u001b[39m\u001b[39m\"\u001b[39m\n\u001b[1;32m    483\u001b[0m     )\n",
      "File \u001b[0;32m~/opt/miniconda3/envs/Qproject/lib/python3.8/site-packages/pandas/io/excel/_base.py:1496\u001b[0m, in \u001b[0;36mExcelFile.__init__\u001b[0;34m(self, path_or_buffer, engine, storage_options)\u001b[0m\n\u001b[1;32m   1494\u001b[0m     ext \u001b[39m=\u001b[39m \u001b[39m\"\u001b[39m\u001b[39mxls\u001b[39m\u001b[39m\"\u001b[39m\n\u001b[1;32m   1495\u001b[0m \u001b[39melse\u001b[39;00m:\n\u001b[0;32m-> 1496\u001b[0m     ext \u001b[39m=\u001b[39m inspect_excel_format(\n\u001b[1;32m   1497\u001b[0m         content_or_path\u001b[39m=\u001b[39;49mpath_or_buffer, storage_options\u001b[39m=\u001b[39;49mstorage_options\n\u001b[1;32m   1498\u001b[0m     )\n\u001b[1;32m   1499\u001b[0m     \u001b[39mif\u001b[39;00m ext \u001b[39mis\u001b[39;00m \u001b[39mNone\u001b[39;00m:\n\u001b[1;32m   1500\u001b[0m         \u001b[39mraise\u001b[39;00m \u001b[39mValueError\u001b[39;00m(\n\u001b[1;32m   1501\u001b[0m             \u001b[39m\"\u001b[39m\u001b[39mExcel file format cannot be determined, you must specify \u001b[39m\u001b[39m\"\u001b[39m\n\u001b[1;32m   1502\u001b[0m             \u001b[39m\"\u001b[39m\u001b[39man engine manually.\u001b[39m\u001b[39m\"\u001b[39m\n\u001b[1;32m   1503\u001b[0m         )\n",
      "File \u001b[0;32m~/opt/miniconda3/envs/Qproject/lib/python3.8/site-packages/pandas/io/excel/_base.py:1371\u001b[0m, in \u001b[0;36minspect_excel_format\u001b[0;34m(content_or_path, storage_options)\u001b[0m\n\u001b[1;32m   1368\u001b[0m \u001b[39mif\u001b[39;00m \u001b[39misinstance\u001b[39m(content_or_path, \u001b[39mbytes\u001b[39m):\n\u001b[1;32m   1369\u001b[0m     content_or_path \u001b[39m=\u001b[39m BytesIO(content_or_path)\n\u001b[0;32m-> 1371\u001b[0m \u001b[39mwith\u001b[39;00m get_handle(\n\u001b[1;32m   1372\u001b[0m     content_or_path, \u001b[39m\"\u001b[39;49m\u001b[39mrb\u001b[39;49m\u001b[39m\"\u001b[39;49m, storage_options\u001b[39m=\u001b[39;49mstorage_options, is_text\u001b[39m=\u001b[39;49m\u001b[39mFalse\u001b[39;49;00m\n\u001b[1;32m   1373\u001b[0m ) \u001b[39mas\u001b[39;00m handle:\n\u001b[1;32m   1374\u001b[0m     stream \u001b[39m=\u001b[39m handle\u001b[39m.\u001b[39mhandle\n\u001b[1;32m   1375\u001b[0m     stream\u001b[39m.\u001b[39mseek(\u001b[39m0\u001b[39m)\n",
      "File \u001b[0;32m~/opt/miniconda3/envs/Qproject/lib/python3.8/site-packages/pandas/io/common.py:868\u001b[0m, in \u001b[0;36mget_handle\u001b[0;34m(path_or_buf, mode, encoding, compression, memory_map, is_text, errors, storage_options)\u001b[0m\n\u001b[1;32m    859\u001b[0m         handle \u001b[39m=\u001b[39m \u001b[39mopen\u001b[39m(\n\u001b[1;32m    860\u001b[0m             handle,\n\u001b[1;32m    861\u001b[0m             ioargs\u001b[39m.\u001b[39mmode,\n\u001b[0;32m   (...)\u001b[0m\n\u001b[1;32m    864\u001b[0m             newline\u001b[39m=\u001b[39m\u001b[39m\"\u001b[39m\u001b[39m\"\u001b[39m,\n\u001b[1;32m    865\u001b[0m         )\n\u001b[1;32m    866\u001b[0m     \u001b[39melse\u001b[39;00m:\n\u001b[1;32m    867\u001b[0m         \u001b[39m# Binary mode\u001b[39;00m\n\u001b[0;32m--> 868\u001b[0m         handle \u001b[39m=\u001b[39m \u001b[39mopen\u001b[39;49m(handle, ioargs\u001b[39m.\u001b[39;49mmode)\n\u001b[1;32m    869\u001b[0m     handles\u001b[39m.\u001b[39mappend(handle)\n\u001b[1;32m    871\u001b[0m \u001b[39m# Convert BytesIO or file objects passed with an encoding\u001b[39;00m\n",
      "\u001b[0;31mFileNotFoundError\u001b[0m: [Errno 2] No such file or directory: '/Users/amitlevi/Desktop/DeepCheck/Ex2 Convolution, Filtering, Gradients - answers/Dataset_sq_JOSEPH.xlsx'"
     ]
    }
   ],
   "source": [
    "#Download Joseph data from XL(/Users/amitlevi/Desktop/DeepCheck/Ex2 Convolution, Filtering, Gradients - answers/Dataset_sq_JOSEPH.xlsx) file to json file\n",
    "import json\n",
    "import matplotlib.pyplot as plt\n",
    "import seaborn as sns\n",
    "from scipy import stats\n",
    "from scipy.stats import norm\n",
    "import math\n",
    "import statistics\n",
    "import scipy.stats as st\n",
    "import random\n",
    "import pandas as pd\n",
    "import numpy as np\n",
    "from sklearn.preprocessing import StandardScaler, LabelEncoder\n",
    "from sklearn.manifold import TSNE\n",
    "import seaborn as sns\n",
    "import matplotlib.pyplot as plt\n",
    "from mpl_toolkits.mplot3d import Axes3D  # Import the 3D plotting toolkit\n",
    "\n",
    "# Read the data from the excel file\n",
    "df = pd.read_excel('/Users/amitlevi/Desktop/DeepCheck/Ex2 Convolution, Filtering, Gradients - answers/Dataset_sq_JOSEPH.xlsx')\n",
    "de_others = pd.read_excel('/Users/amitlevi/Desktop/DeepCheck/Ex2 Convolution, Filtering, Gradients - answers/Dataset_sq_DE_Others.xlsx')\n",
    "\n",
    "# Create vector for transaction (one line in the data) according to the features in the data\n",
    "def create_vector(row):\n",
    "    vector = []\n",
    "    for feature in df.columns:\n",
    "        vector.append(row[feature])\n",
    "    return vector\n",
    "\n",
    "# Create a list of vectors from the data\n",
    "def create_list_of_vectors(df):\n",
    "    list_of_vectors = []\n",
    "    for index, row in df.iterrows():\n",
    "        list_of_vectors.append(create_vector(row))\n",
    "    return list_of_vectors\n",
    "\n",
    "# Print the list of vectors, only first 10 vectors using a DataFrame\n",
    "def print_list_of_vectors(list_of_vectors):\n",
    "    # Table with nice look\n",
    "    df_vectors = pd.DataFrame(list_of_vectors, columns=df.columns)\n",
    "    print(df_vectors.head(10))\n",
    "\n",
    "    \n",
    "# Interface\n",
    "Joseph_list_of_vectors = create_list_of_vectors(df)\n",
    "print_list_of_vectors(Joseph_list_of_vectors)\n",
    "\n",
    "\n",
    "\n",
    "def plot_t_sne(list_of_vectors, perplexity=30, n_iter=1000):\n",
    "\n",
    "    # Convert to DataFrame for easier processing\n",
    "    df = pd.DataFrame(list_of_vectors)\n",
    "\n",
    "    # Encoding non-numeric columns\n",
    "    for col in df.select_dtypes(include=['object', 'category']):\n",
    "        df[col] = LabelEncoder().fit_transform(df[col])\n",
    "\n",
    "\n",
    "    # Standardize the data\n",
    "    X = StandardScaler().fit_transform(df)\n",
    "\n",
    "\n",
    "    # Create and fit the t-SNE model for 3 components (3D)\n",
    "    tsne = TSNE(n_components=3, verbose=1, perplexity=perplexity, n_iter=n_iter)\n",
    "    tsne_results = tsne.fit_transform(X)\n",
    "\n",
    "\n",
    "    # Plot the results in 3D\n",
    "    fig = plt.figure(figsize=(10, 8))\n",
    "    ax = fig.add_subplot(111, projection='3d')  # Create a 3D subplot\n",
    "    ax.scatter(tsne_results[:,0], tsne_results[:,1], tsne_results[:,2])\n",
    "    ax.set_title(\"3D t-SNE plot\")\n",
    "    ax.set_xlabel(\"t-SNE 1\")\n",
    "    ax.set_ylabel(\"t-SNE 2\")\n",
    "    ax.set_zlabel(\"t-SNE 3\")\n",
    "\n",
    "\n",
    "\n",
    "    plt.show()\n",
    "\n",
    "# Example usage\n",
    "plot_t_sne(Joseph_list_of_vectors, perplexity=30, n_iter=1000)\n"
   ]
  },
  {
   "cell_type": "markdown",
   "metadata": {},
   "source": [
    "# "
   ]
  },
  {
   "cell_type": "code",
   "execution_count": null,
   "metadata": {},
   "outputs": [],
   "source": [
    "import yfinance as yf\n",
    "import pandas as pd\n",
    "\n",
    "\n",
    "\n",
    "def extend_vector_with_finance_data(vector, isin_column, date_column):\n",
    "    # Get the ISIN and date from the vector\n",
    "    isin = vector[isin_column]\n",
    "    date = vector[date_column]\n",
    "    \n",
    "    # Get the ticker symbol from the ISIN\n",
    "    ticker_symbol = isin_to_ticker(isin)\n",
    "    \n",
    "    # Get the stock data from Yahoo Finance\n",
    "    stock_data = yf.download(ticker_symbol, start=date, end=date)\n",
    "    # add the stock data to the vector\n",
    "    vector.append(stock_data)  \n",
    "    return vector\n",
    "    \n",
    "def isin_to_ticker(isin):\n",
    "    # Get the ticker symbol from the ISIN\n",
    "\n",
    "\n",
    "\n"
   ]
  },
  {
   "cell_type": "markdown",
   "metadata": {},
   "source": []
  }
 ],
 "metadata": {
  "kernelspec": {
   "display_name": "NLP_Project",
   "language": "python",
   "name": "python3"
  },
  "language_info": {
   "codemirror_mode": {
    "name": "ipython",
    "version": 3
   },
   "file_extension": ".py",
   "mimetype": "text/x-python",
   "name": "python",
   "nbconvert_exporter": "python",
   "pygments_lexer": "ipython3",
   "version": "3.8.16"
  }
 },
 "nbformat": 4,
 "nbformat_minor": 2
}
